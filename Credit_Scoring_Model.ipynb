import pandas as pd
from sklearn.model_selection import train_test_split
from sklearn.preprocessing import StandardScaler
from sklearn.linear_model import LogisticRegression
from sklearn.tree import DecisionTreeClassifier
from sklearn.ensemble import RandomForestClassifier,GradientBoostingClassifier
from sklearn.svm import SVC
from sklearn.metrics import accuracy_score,classification_report,confusion_matrix,roc_auc_score

#Load data
cr=pd.read_csv(r'C:\Users\More\Downloads\Credit.csv')
cr.head()
cr.shape
cr.isnull().sum()
cr.describe()
cr.info()

#Preprocess data
scaler=StandardScaler()
cr[['Income','Limit']]=scaler.fit_transform(cr[['Income','Limit']])

#Split data into training and testing sets
X_train, X_test, Y_train, Y_test = train_test_split(cr.drop('Income',axis=1),cr['Income'],test_size=0.2)

#Train models
#Logistic Regression

logreg=LogisticRegression()
logreg.fit(X_train,Y_train)

#Evaluate models
print("Logistic Regression:")
print("Accuracy:",accuracy_score(Y_test,logreg.predict(X_test)))
print("Classification Report:\n",classification_report(Y_test,logreg.predict(X_test)))
print("Confusion Matrix:\n",confusion_matrix(Y_test,logreg.predict(X_test)))
print("ROC-AUC:",roc_auc_score(Y_test,logreg.predict_proba(X_test)[:,1]))

#Decision trees
#Train models

dt=DecisionTreeClassifier()
dt.fit(X_train,Y_train)

#Evaluate models
print("Decision trees:")
print("Accuracy:",accuracy_score(Y_test,dt.predict(X_test)))
print("Classification Report:\n",classification_report(Y_test,dt.predict(X_test)))
print("Confusion Matrix:\n",confusion_matrix(Y_test,dt.predict(X_test)))
print("ROC-AUC:",roc_auc_score(Y_test,dt.predict_proba(X_test)[:,1]))

#Random Forest
#Train models

rf=RandomForestClassifier()
rf.fit(X_train,Y_train)

#Evaluate models
print("Random Forest:")
print("Accuracy:",accuracy_score(Y_test,rf.predict(X_test)))
print("Classification Report:\n",classification_report(Y_test,rf.predict(X_test)))
print("Confusion Matrix:\n",confusion_matrix(Y_test,rf.predict(X_test)))
print("ROC-AUC:",roc_auc_score(Y_test,rf.predict_proba(X_test)[:,1]))

#Support Vector Machine(SVM)
#Train models

svm=SVC(probability=True)
svm.fit(X_train,Y_train)

#Evaluate models
print("Support Vector Machine:")
print("Accuracy:",accuracy_score(Y_test,svm.predict(X_test)))
print("Classification Report:\n",classification_report(Y_test,svm.predict(X_test)))
print("Confusion Matrix:\n",confusion_matrix(Y_test,svm.predict(X_test)))
print("ROC-AUC:",roc_auc_score(Y_test,svm.predict_proba(X_test)[:,1]))

#Gradient Boosting Classifier
#train models

gb=GradientBoostingClassifier()
gb.fit(X_train,Y_train)

#Evaluate models
print("Gradient Boosting Classifier:")
print("Accuracy:",accuracy_score(Y_test,gb.predict(X_test)))
print("Classification Report:\n",classification_report(Y_test,gb.predict(X_test)))
print("Confusion Matrix:\n",confusion_matrix(Y_test,gb.predict(X_test)))
print("ROC-AUC:",roc_auc_score(Y_test,gb.predict_proba(X_test)[:,1]))



